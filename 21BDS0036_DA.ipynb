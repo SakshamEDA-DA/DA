{
  "nbformat": 4,
  "nbformat_minor": 0,
  "metadata": {
    "colab": {
      "provenance": [],
      "authorship_tag": "ABX9TyM49GYlRJ/ZygdIoJuJ4RJS",
      "include_colab_link": true
    },
    "kernelspec": {
      "name": "python3",
      "display_name": "Python 3"
    },
    "language_info": {
      "name": "python"
    }
  },
  "cells": [
    {
      "cell_type": "markdown",
      "metadata": {
        "id": "view-in-github",
        "colab_type": "text"
      },
      "source": [
        "<a href=\"https://colab.research.google.com/github/SakshamEDA-DA/DA/blob/main/21BDS0036_DA.ipynb\" target=\"_parent\"><img src=\"https://colab.research.google.com/assets/colab-badge.svg\" alt=\"Open In Colab\"/></a>"
      ]
    },
    {
      "cell_type": "code",
      "execution_count": null,
      "metadata": {
        "colab": {
          "base_uri": "https://localhost:8080/"
        },
        "id": "A8wy9XlMCoDB",
        "outputId": "f7387cfe-7fc7-4db2-ea71-89f48b2001bd"
      },
      "outputs": [
        {
          "output_type": "stream",
          "name": "stdout",
          "text": [
            "   rownames  kids  age  education  year  siblings  agefirstbirth ethnicity  \\\n",
            "0         1     0   25         14  2002         1            NaN      cauc   \n",
            "1         2     1   30         13  2002         4           19.0      cauc   \n",
            "2         3     1   55          2  2002         1           27.0      cauc   \n",
            "3         4     2   57         16  2002         1           22.0      cauc   \n",
            "4         5     2   71         12  2002         6           29.0      cauc   \n",
            "\n",
            "  city16 lowincome16 immigrant  \n",
            "0     no          no        no  \n",
            "1    yes          no        no  \n",
            "2     no          no       yes  \n",
            "3     no          no        no  \n",
            "4    yes          no        no  \n"
          ]
        }
      ],
      "source": [
        "import pandas as pd\n",
        "\n",
        "url=\"https://raw.githubusercontent.com/salemprakash/EDA/main/Data/GSS7402.csv\"\n",
        "df = pd.read_csv(url)\n",
        "\n",
        "# Display the first few rows of the DataFrame\n",
        "print(df.head())\n"
      ]
    },
    {
      "cell_type": "code",
      "source": [
        "# Dimensions of the dataset\n",
        "print(\"Shape of the dataset:\", df.shape)\n",
        "\n",
        "# Summary statistics of the dataset\n",
        "print(\"Summary statistics:\\n\", df.describe())\n",
        "\n",
        "# Information about the dataset\n",
        "print(\"Dataset info:\\n\")\n",
        "df.info()\n"
      ],
      "metadata": {
        "colab": {
          "base_uri": "https://localhost:8080/"
        },
        "id": "V7IZ-ao6C5Tp",
        "outputId": "9a5e66c4-7b49-4bed-ffb8-5a652053ddbb"
      },
      "execution_count": null,
      "outputs": [
        {
          "output_type": "stream",
          "name": "stdout",
          "text": [
            "Shape of the dataset: (9120, 11)\n",
            "Summary statistics:\n",
            "           rownames         kids          age    education         year  \\\n",
            "count  9120.000000  9120.000000  9120.000000  9120.000000  9120.000000   \n",
            "mean   4560.500000     2.076096    46.082018    12.635088  1990.288596   \n",
            "std    2632.861561     1.805099    17.923889     2.955190     9.096915   \n",
            "min       1.000000     0.000000    18.000000     0.000000  1974.000000   \n",
            "25%    2280.750000     1.000000    31.000000    12.000000  1982.000000   \n",
            "50%    4560.500000     2.000000    43.000000    12.000000  1994.000000   \n",
            "75%    6840.250000     3.000000    59.000000    14.000000  1998.000000   \n",
            "max    9120.000000     8.000000    89.000000    20.000000  2002.000000   \n",
            "\n",
            "          siblings  agefirstbirth  \n",
            "count  9120.000000    3312.000000  \n",
            "mean      4.050658      22.630737  \n",
            "std       3.246137       4.859220  \n",
            "min       0.000000       9.000000  \n",
            "25%       2.000000      19.000000  \n",
            "50%       3.000000      22.000000  \n",
            "75%       6.000000      25.000000  \n",
            "max      35.000000      42.000000  \n",
            "Dataset info:\n",
            "\n",
            "<class 'pandas.core.frame.DataFrame'>\n",
            "RangeIndex: 9120 entries, 0 to 9119\n",
            "Data columns (total 11 columns):\n",
            " #   Column         Non-Null Count  Dtype  \n",
            "---  ------         --------------  -----  \n",
            " 0   rownames       9120 non-null   int64  \n",
            " 1   kids           9120 non-null   int64  \n",
            " 2   age            9120 non-null   int64  \n",
            " 3   education      9120 non-null   int64  \n",
            " 4   year           9120 non-null   int64  \n",
            " 5   siblings       9120 non-null   int64  \n",
            " 6   agefirstbirth  3312 non-null   float64\n",
            " 7   ethnicity      9120 non-null   object \n",
            " 8   city16         9120 non-null   object \n",
            " 9   lowincome16    9120 non-null   object \n",
            " 10  immigrant      9120 non-null   object \n",
            "dtypes: float64(1), int64(6), object(4)\n",
            "memory usage: 783.9+ KB\n"
          ]
        }
      ]
    },
    {
      "cell_type": "code",
      "source": [
        "# Check for missing values\n",
        "print(\"Missing values in each column:\\n\", df.isnull().sum())"
      ],
      "metadata": {
        "colab": {
          "base_uri": "https://localhost:8080/"
        },
        "id": "_y9HLq4_FKR3",
        "outputId": "ccc7deda-3d17-4b84-e03a-e7fb78e03ab9"
      },
      "execution_count": null,
      "outputs": [
        {
          "output_type": "stream",
          "name": "stdout",
          "text": [
            "Missing values in each column:\n",
            " rownames            0\n",
            "kids                0\n",
            "age                 0\n",
            "education           0\n",
            "year                0\n",
            "siblings            0\n",
            "agefirstbirth    5808\n",
            "ethnicity           0\n",
            "city16              0\n",
            "lowincome16         0\n",
            "immigrant           0\n",
            "dtype: int64\n"
          ]
        }
      ]
    },
    {
      "cell_type": "code",
      "source": [],
      "metadata": {
        "id": "3moWct0BHMOK"
      },
      "execution_count": null,
      "outputs": []
    },
    {
      "cell_type": "code",
      "source": [
        "print(df.columns)"
      ],
      "metadata": {
        "colab": {
          "base_uri": "https://localhost:8080/"
        },
        "id": "GQDpvZ1_FKks",
        "outputId": "8ed107ef-ea0d-48d6-efce-b828ead01bd1"
      },
      "execution_count": null,
      "outputs": [
        {
          "output_type": "stream",
          "name": "stdout",
          "text": [
            "Index(['rownames', 'kids', 'age', 'education', 'year', 'siblings',\n",
            "       'agefirstbirth', 'ethnicity', 'city16', 'lowincome16', 'immigrant'],\n",
            "      dtype='object')\n"
          ]
        }
      ]
    },
    {
      "cell_type": "code",
      "source": [],
      "metadata": {
        "id": "hLFq5jbuHNay"
      },
      "execution_count": null,
      "outputs": []
    }
  ]
}